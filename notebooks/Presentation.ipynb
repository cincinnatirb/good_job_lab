{
 "cells": [
  {
   "cell_type": "markdown",
   "id": "dab10cad-f5d8-4aa8-9f4e-421dd01173ef",
   "metadata": {},
   "source": [
    "# Jupyter Notebooks for fun, profit, and sharing Ruby knowledge\n",
    "\n",
    "## Introduction\n",
    "\n",
    "Problem: You have a team (or you're a busy person doing solo work) on a Ruby project. You find yourself doing this stuff a lot:\n"
   ]
  },
  {
   "cell_type": "markdown",
   "id": "d30d244e-5b08-4baf-9c7c-b3c6492567d6",
   "metadata": {},
   "source": [
    "```ruby\n",
    "# Adding role to a user\n",
    "u = User.find_by(email: \"admin@test.example\")\n",
    "u.roles << Role.find_by(name: :admin)\n",
    "\n",
    "# kick off jobs\n",
    "UserSyncJob.perform_later\n",
    "\n",
    "# check permissions/account status\n",
    "Organization.find(50).active?\n",
    "\n",
    "# setting up development context to reproduce test failures or troubleshoot production in ways that can't be staged through the UI\n",
    "FactoryBot.create(:user, :admin)\n",
    "\n",
    "```"
   ]
  },
  {
   "cell_type": "markdown",
   "id": "33497a95-5809-49f6-8adc-124ec4615a18",
   "metadata": {
    "jp-MarkdownHeadingCollapsed": true
   },
   "source": [
    "### Question 1: How do you handle performing and sharing common administrative tasks?\n",
    "\n",
    "* Pray it stays in your rails console history +2 \n",
    "* Keep notes per project in markdown or notes app\n",
    "* Pin them in Slack/Discord, post-it notes\n",
    "* GitHub gist\n",
    "* Add it to the README\n",
    "* Decision tree document\n",
    "  "
   ]
  },
  {
   "cell_type": "markdown",
   "id": "e8fbfe5a-32d8-4714-86cc-eca05da9d8ab",
   "metadata": {},
   "source": [
    "## Background on Notebooks\n",
    "\n",
    "There are a good number of tools that have emerged from the concept of a second brain https://www.buildingasecondbrain.com. These are center around the concepts of being able to store off information, link it, and retrieve it when needed. Alleviates the need to keep all that context in your brain.\n",
    "\n",
    "### Jupyter Notebooks\n",
    "\n",
    "https://jupyter.org\n",
    "\n",
    "* Hybrid Code and Documentation, allows writing and executing code inline, and documenting it with markdown.\n",
    "* Visualization tools for tables and charts\n",
    "* Outputs can be persisted and stored in a versioned repository along with the code, to allow people to use and see expected outputs\n",
    "* Python-centric, nbut allows for other \"kernels\" incluing Ruby/IRuby to execute other languages\n"
   ]
  },
  {
   "cell_type": "markdown",
   "id": "53bdaa3f-816e-4343-98f0-df8ce7ae65b5",
   "metadata": {},
   "source": [
    "### Other Notebooks\n",
    "\n",
    "* Obsidian - second brain stuff, supports markdown and math notations and stuff, not code\n",
    "* Elixir Livebook - Elixir Notebook system with advanced features like drop-in machine learning for image, text, and audio parsing/classification etc"
   ]
  },
  {
   "cell_type": "markdown",
   "id": "3179865a-7b8f-4aac-9133-a07f52682420",
   "metadata": {},
   "source": [
    "### Demo of basic user admin stuff"
   ]
  },
  {
   "cell_type": "markdown",
   "id": "dcacf074-d781-44e6-a5af-fb1ade4dd27f",
   "metadata": {},
   "source": [
    "## Information gathering and sharing\n",
    "\n",
    "Sometimes you want to pull in data from a model or a database query and analyze the results in a repeatable/shareable way.\n",
    "\n",
    "### Question 2: What do you do right now when you're asked a question that requires data analysis to answer or troubleshoot?\n",
    "\n",
    "* Metabase\n",
    "* Everybody gets a spreadsheet!\n",
    "* Let someone else do that work\n",
    "* Code notebook\n",
    "\n",
    "### Demo of data research/visualization"
   ]
  },
  {
   "cell_type": "markdown",
   "id": "83505ffb-b6eb-4fd2-b657-e871ba61bb85",
   "metadata": {},
   "source": [
    "### Brainstorming other uses for notebooks\n",
    "\n",
    "* Documenting new dev onboarding with runnable setup code\n",
    "* Mentoring/teaching Ruby in an interactive way\n",
    "* \"showing the work\" on data investigation/analysis\n",
    "* Document decisions\n",
    "* Versioning one-off functions that we typically write in the console"
   ]
  },
  {
   "cell_type": "markdown",
   "id": "3e68c035-182b-453d-b81c-6d0bb70486f4",
   "metadata": {},
   "source": [
    "## Resources\n",
    "\n",
    "Getting started with Jupyter Notebooks in VS Code\n",
    "https://code.visualstudio.com/docs/datascience/jupyter-notebooks\n",
    "\n",
    "Getting started notebook examples\n",
    "https://github.com/SciRuby/sciruby-notebooks/blob/master/getting_started.ipynb\n",
    "\n",
    "Charting examples\n",
    "https://nbviewer.org/github/SciRuby/daru-view/blob/master/spec/dummy_iruby/Highcharts%20-%20column%20charts.ipynb\n"
   ]
  }
 ],
 "metadata": {
  "kernelspec": {
   "display_name": "Ruby 3.2.2",
   "language": "ruby",
   "name": "ruby"
  },
  "language_info": {
   "file_extension": ".rb",
   "mimetype": "application/x-ruby",
   "name": "ruby",
   "version": "3.2.2"
  }
 },
 "nbformat": 4,
 "nbformat_minor": 5
}
