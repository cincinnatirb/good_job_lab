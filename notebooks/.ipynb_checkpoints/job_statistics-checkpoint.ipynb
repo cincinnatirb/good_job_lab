{
 "cells": [
  {
   "cell_type": "markdown",
   "metadata": {},
   "source": [
    "# Job Statistics\n",
    "\n",
    "Sometimes, during the course of troubleshooting an issue, we need to know information about the running jobs. This script will help you to understand those running jobs under good_job (the gem we use to manage ActiveJobs)"
   ]
  },
  {
   "cell_type": "markdown",
   "metadata": {},
   "source": [
    "## Setup"
   ]
  },
  {
   "cell_type": "code",
   "execution_count": 2,
   "metadata": {},
   "outputs": [
    {
     "data": {
      "application/javascript": [
       "if(window['d3'] === undefined ||\n",
       "   window['Nyaplot'] === undefined){\n",
       "    var path = {\"d3\":\"https://cdnjs.cloudflare.com/ajax/libs/d3/3.5.5/d3.min\",\"downloadable\":\"http://cdn.rawgit.com/domitry/d3-downloadable/master/d3-downloadable\"};\n",
       "\n",
       "\n",
       "\n",
       "    var shim = {\"d3\":{\"exports\":\"d3\"},\"downloadable\":{\"exports\":\"downloadable\"}};\n",
       "\n",
       "    require.config({paths: path, shim:shim});\n",
       "\n",
       "\n",
       "require(['d3'], function(d3){window['d3']=d3;console.log('finished loading d3');require(['downloadable'], function(downloadable){window['downloadable']=downloadable;console.log('finished loading downloadable');\n",
       "\n",
       "\tvar script = d3.select(\"head\")\n",
       "\t    .append(\"script\")\n",
       "\t    .attr(\"src\", \"http://cdn.rawgit.com/domitry/Nyaplotjs/master/release/nyaplot.js\")\n",
       "\t    .attr(\"async\", true);\n",
       "\n",
       "\tscript[0][0].onload = script[0][0].onreadystatechange = function(){\n",
       "\n",
       "\n",
       "\t    var event = document.createEvent(\"HTMLEvents\");\n",
       "\t    event.initEvent(\"load_nyaplot\",false,false);\n",
       "\t    window.dispatchEvent(event);\n",
       "\t    console.log('Finished loading Nyaplotjs');\n",
       "\n",
       "\t};\n",
       "\n",
       "\n",
       "});});\n",
       "}\n"
      ],
      "text/plain": [
       "\"if(window['d3'] === undefined ||\\n   window['Nyaplot'] === undefined){\\n    var path = {\\\"d3\\\":\\\"https://cdnjs.cloudflare.com/ajax/libs/d3/3.5.5/d3.min\\\",\\\"downloadable\\\":\\\"http://cdn.rawgit.com/domitry/d3-downloadable/master/d3-downloadable\\\"};\\n\\n\\n\\n    var shim = {\\\"d3\\\":{\\\"exports\\\":\\\"d3\\\"},\\\"downloadable\\\":{\\\"exports\\\":\\\"downloadable\\\"}};\\n\\n    require.config({paths: path, shim:shim});\\n\\n\\nrequire(['d3'], function(d3){window['d3']=d3;console.log('finished loading d3');require(['downloadable'], function(downloadable){window['downloadable']=downloadable;console.log('finished loading downloadable');\\n\\n\\tvar script = d3.select(\\\"head\\\")\\n\\t    .append(\\\"script\\\")\\n\\t    .attr(\\\"src\\\", \\\"http://cdn.rawgit.com/domitry/Nyaplotjs/master/release/nyaplot.js\\\")\\n\\t    .attr(\\\"async\\\", true);\\n\\n\\tscript[0][0].onload = script[0][0].onreadystatechange = function(){\\n\\n\\n\\t    var event = document.createEvent(\\\"HTMLEvents\\\");\\n\\t    event.initEvent(\\\"load_nyaplot\\\",false,false);\\n\\t    window.dispatchEvent(event);\\n\\t    console.log('Finished loading Nyaplotjs');\\n\\n\\t};\\n\\n\\n});});\\n}\\n\""
      ]
     },
     "metadata": {},
     "output_type": "display_data"
    },
    {
     "data": {
      "text/plain": [
       "true"
      ]
     },
     "execution_count": 2,
     "metadata": {},
     "output_type": "execute_result"
    }
   ],
   "source": [
    "require '../config/boot'\n",
    "require '../config/application'\n",
    "Rails.application.require_environment!"
   ]
  },
  {
   "cell_type": "markdown",
   "metadata": {},
   "source": [
    "## List PiCalculationJobs"
   ]
  },
  {
   "cell_type": "code",
   "execution_count": 3,
   "metadata": {},
   "outputs": [
    {
     "data": {
      "text/html": [
       "<table><tr><th>id</th><th>job_class</th><th>queue_name</th><th>scheduled_at</th><th>performed_at</th><th>finished_at</th><th>duration</th></tr><tr><td>2e02a027-5627-42e4-98f0-6f7f5ae4d359</td><td>PiCalculationJob</td><td>default</td><td>2023-06-15 16:28:00 UTC</td><td>2023-06-15 16:28:00 UTC</td><td>2023-06-15 16:28:35 UTC</td><td>35.908079</td></tr><tr><td>9bd3d2a7-954a-46b8-ac8e-bb00381c66b5</td><td>PiCalculationJob</td><td>default</td><td>2023-06-15 15:43:00 UTC</td><td>2023-06-15 15:43:00 UTC</td><td>2023-06-15 15:43:04 UTC</td><td>4.002133</td></tr><tr><td>55b417a5-13ce-495a-8678-5e50e156ef77</td><td>PiCalculationJob</td><td>default</td><td>2023-06-15 15:44:00 UTC</td><td>2023-06-15 15:44:00 UTC</td><td>2023-06-15 15:44:40 UTC</td><td>40.452444</td></tr><tr><td>ad9d78f5-d480-4fd8-90ab-6d1511838b73</td><td>PiCalculationJob</td><td>default</td><td>2023-06-15 16:26:00 UTC</td><td>2023-06-15 16:26:00 UTC</td><td>2023-06-15 16:26:35 UTC</td><td>35.219956</td></tr><tr><td>b782817c-831f-4556-a5e3-bca5544635ae</td><td>PiCalculationJob</td><td>default</td><td>2023-06-15 16:27:00 UTC</td><td>2023-06-15 16:27:00 UTC</td><td>2023-06-15 16:27:35 UTC</td><td>35.530334</td></tr><tr><td>d9b0e371-eec7-4e3d-b34a-2b0e158685f9</td><td>PiCalculationJob</td><td>default</td><td>2023-06-15 16:29:00 UTC</td><td>2023-06-15 16:29:00 UTC</td><td>2023-06-15 16:29:35 UTC</td><td>35.515152</td></tr><tr><td>4f571395-9c7d-4ba1-be50-54b73045008f</td><td>PiCalculationJob</td><td>default</td><td>2023-06-15 16:32:00 UTC</td><td>2023-06-15 16:32:00 UTC</td><td>2023-06-15 16:32:35 UTC</td><td>35.628394</td></tr><tr><td colspan='7'>&#8942;</td></tr><tr><td>90a3dbb3-7e2e-432a-8b5e-41c1737f9e97</td><td>PiCalculationJob</td><td>default</td><td>2023-06-15 16:46:00 UTC</td><td>2023-06-15 16:46:00 UTC</td><td>2023-06-15 16:46:35 UTC</td><td>35.461635</td></tr><tr><td>eb0bfe14-bc6e-460a-bc78-f34c079493ee</td><td>PiCalculationJob</td><td>default</td><td>2023-06-15 16:39:00 UTC</td><td>2023-06-15 16:39:00 UTC</td><td>2023-06-15 16:39:35 UTC</td><td>35.838084</td></tr><tr><td>0be887a4-9935-4815-a2c0-16732ea7162e</td><td>PiCalculationJob</td><td>default</td><td>2023-06-15 16:44:00 UTC</td><td>2023-06-15 16:44:00 UTC</td><td>2023-06-15 16:44:35 UTC</td><td>35.799188</td></tr><tr><td>0146d7e0-7aea-4e46-b132-1b478e87ea58</td><td>PiCalculationJob</td><td>default</td><td>2023-06-15 16:42:00 UTC</td><td>2023-06-15 16:42:00 UTC</td><td>2023-06-15 16:42:35 UTC</td><td>35.736316</td></tr><tr><td>442cfc72-9fb9-467f-bef7-ff4324a74e2c</td><td>PiCalculationJob</td><td>default</td><td>2023-06-15 16:43:00 UTC</td><td>2023-06-15 16:43:00 UTC</td><td>2023-06-15 16:43:35 UTC</td><td>35.64072</td></tr><tr><td>40da1de2-a012-449a-8b0f-a25dfba4215d</td><td>PiCalculationJob</td><td>default</td><td>2023-06-15 16:45:00 UTC</td><td>2023-06-15 16:45:00 UTC</td><td>2023-06-15 16:45:35 UTC</td><td>35.453468</td></tr><tr><td>74573e06-eae9-48e6-9eab-27abeef2ac09</td><td>PiCalculationJob</td><td>default</td><td>2023-06-15 16:47:00 UTC</td><td>2023-06-15 16:47:00 UTC</td><td>2023-06-15 16:47:35 UTC</td><td>35.89636</td></tr></table>"
      ],
      "text/plain": [
       "\"<table><tr><th>id</th><th>job_class</th><th>queue_name</th><th>scheduled_at</th><th>performed_at</th><th>finished_at</th><th>duration</th></tr><tr><td>2e02a027-5627-42e4-98f0-6f7f5ae4d359</td><td>PiCalculationJob</td><td>default</td><td>2023-06-15 16:28:00 UTC</td><td>2023-06-15 16:28:00 UTC</td><td>2023-06-15 16:28:35 UTC</td><td>35.908079</td></tr><tr><td>9bd3d2a7-954a-46b8-ac8e-bb00381c66b5</td><td>PiCalculationJob</td><td>default</td><td>2023-06-15 15:43:00 UTC</td><td>2023-06-15 15:43:00 UTC</td><td>2023-06-15 15:43:04 UTC</td><td>4.002133</td></tr><tr><td>55b417a5-13ce-495a-8678-5e50e156ef77</td><td>PiCalculationJob</td><td>default</td><td>2023-06-15 15:44:00 UTC</td><td>2023-06-15 15:44:00 UTC</td><td>2023-06-15 15:44:40 UTC</td><td>40.452444</td></tr><tr><td>ad9d78f5-d480-4fd8-90ab-6d1511838b73</td><td>PiCalculationJob</td><td>default</td><td>2023-06-15 16:26:00 UTC</td><td>2023-06-15 16:26:00 UTC</td><td>2023-06-15 16:26:35 UTC</td><td>35.219956</td></tr><tr><td>b782817c-831f-4556-a5e3-bca5544635ae</td><td>PiCalculationJob</td><td>default</td><td>2023-06-15 16:27:00 UTC</td><td>2023-06-15 16:27:00 UTC</td><td>2023-06-15 16:27:35 UTC</td><td>35.530334</td></tr><tr><td>d9b0e371-eec7-4e3d-b34a-2b0e158685f9</td><td>PiCalculationJob</td><td>default</td><td>2023-06-15 16:29:00 UTC</td><td>2023-06-15 16:29:00 UTC</td><td>2023-06-15 16:29:35 UTC</td><td>35.515152</td></tr><tr><td>4f571395-9c7d-4ba1-be50-54b73045008f</td><td>PiCalculationJob</td><td>default</td><td>2023-06-15 16:32:00 UTC</td><td>2023-06-15 16:32:00 UTC</td><td>2023-06-15 16:32:35 UTC</td><td>35.628394</td></tr><tr><td colspan='7'>&#8942;</td></tr><tr><td>90a3dbb3-7e2e-432a-8b5e-41c1737f9e97</td><td>PiCalculationJob</td><td>default</td><td>2023-06-15 16:46:00 UTC</td><td>2023-06-15 16:46:00 UTC</td><td>2023-06-15 16:46:35 UTC</td><td>35.461635</td></tr><tr><td>eb0bfe14-bc6e-460a-bc78-f34c079493ee</td><td>PiCalculationJob</td><td>default</td><td>2023-06-15 16:39:00 UTC</td><td>2023-06-15 16:39:00 UTC</td><td>2023-06-15 16:39:35 UTC</td><td>35.838084</td></tr><tr><td>0be887a4-9935-4815-a2c0-16732ea7162e</td><td>PiCalculationJob</td><td>default</td><td>2023-06-15 16:44:00 UTC</td><td>2023-06-15 16:44:00 UTC</td><td>2023-06-15 16:44:35 UTC</td><td>35.799188</td></tr><tr><td>0146d7e0-7aea-4e46-b132-1b478e87ea58</td><td>PiCalculationJob</td><td>default</td><td>2023-06-15 16:42:00 UTC</td><td>2023-06-15 16:42:00 UTC</td><td>2023-06-15 16:42:35 UTC</td><td>35.736316</td></tr><tr><td>442cfc72-9fb9-467f-bef7-ff4324a74e2c</td><td>PiCalculationJob</td><td>default</td><td>2023-06-15 16:43:00 UTC</td><td>2023-06-15 16:43:00 UTC</td><td>2023-06-15 16:43:35 UTC</td><td>35.64072</td></tr><tr><td>40da1de2-a012-449a-8b0f-a25dfba4215d</td><td>PiCalculationJob</td><td>default</td><td>2023-06-15 16:45:00 UTC</td><td>2023-06-15 16:45:00 UTC</td><td>2023-06-15 16:45:35 UTC</td><td>35.453468</td></tr><tr><td>74573e06-eae9-48e6-9eab-27abeef2ac09</td><td>PiCalculationJob</td><td>default</td><td>2023-06-15 16:47:00 UTC</td><td>2023-06-15 16:47:00 UTC</td><td>2023-06-15 16:47:35 UTC</td><td>35.89636</td></tr></table>\""
      ]
     },
     "metadata": {},
     "output_type": "display_data"
    }
   ],
   "source": [
    "duration_calculator = lambda { |job| job[:finished_at] - job[:performed_at] }\n",
    "\n",
    "jobs = \n",
    "  ApplicationRecord\n",
    "  .connection\n",
    "  .execute(\n",
    "    <<~SQL\n",
    "      SELECT id, job_class, queue_name, scheduled_at, performed_at, finished_at \n",
    "      FROM good_jobs\n",
    "      WHERE finished_at IS NOT NULL\n",
    "      AND performed_at IS NOT NULL\n",
    "      AND job_class = 'PiCalculationJob'\n",
    "    SQL\n",
    "  )\n",
    "  .map { |job| job.symbolize_keys }\n",
    "  .map { |job| job.merge(duration: duration_calculator.call(job)) }\n",
    "\n",
    "IRuby.display IRuby.table(jobs)"
   ]
  },
  {
   "cell_type": "markdown",
   "metadata": {},
   "source": [
    "## PiCalculationJob Statistics"
   ]
  },
  {
   "cell_type": "code",
   "execution_count": 4,
   "metadata": {},
   "outputs": [
    {
     "data": {
      "text/latex": [
       "$$\\mu = 34.52$$"
      ],
      "text/plain": [
       "\"$$\\\\mu = 34.52$$\""
      ]
     },
     "metadata": {},
     "output_type": "display_data"
    },
    {
     "data": {
      "text/latex": [
       "$$\\sigma^2 = 43.27$$"
      ],
      "text/plain": [
       "\"$$\\\\sigma^2 = 43.27$$\""
      ]
     },
     "metadata": {},
     "output_type": "display_data"
    }
   ],
   "source": [
    "df = Daru::DataFrame.new({\n",
    "  a: jobs.map { |job| job[:duration].round(1) }\n",
    "})\n",
    "\n",
    "# job_runtime_mean = jobs.reduce(0) { |sum, job| sum + job[:duration] } / jobs.size\n",
    "job_runtime_mean = df.a.mean\n",
    "\n",
    "IRuby.display IRuby.math(%(\\\\mu = #{(job_runtime_mean.round(2))}))\n",
    "\n",
    "# job_runtime_variance = jobs.reduce(0) { |sum, job| sum + (job[:duration] - job_runtime_mean)**2 } / jobs.size\n",
    "job_runtime_variance = df.a.variance\n",
    "\n",
    "IRuby.display IRuby.math(%(\\\\sigma^2 = #{(job_runtime_variance.round(2))}))"
   ]
  },
  {
   "cell_type": "code",
   "execution_count": 5,
   "metadata": {},
   "outputs": [
    {
     "data": {
      "text/html": [
       "<div id='vis-ae09b5ee-4ce1-4ee5-9566-7dae08688fd1'></div>\n",
       "<script>\n",
       "(function(){\n",
       "    var render = function(){\n",
       "        var model = {\"panes\":[{\"properties\":{\"diagrams\":[{\"properties\":{\"type\":\"scatter\",\"options\":{\"x\":\"data0\",\"y\":\"data1\"},\"data\":\"892b3e7c-92da-4831-8ae0-6aa091e0157d\"},\"xrange\":[0,0],\"yrange\":[{\"name\":\"Running Time in Seconds\",\"data\":[0,0,0,0,1,0,0,0,0,0,0,0,0,0,0,0,0,0,0,0,0,0,0,0,0,0,0,0,0,0,0,0,0,0,0,6,16,0,0,0,1,0,0,0,0,0,0,0,0,0,0,0,0,0,0,0,0,0,0,0],\"type\":\"column\"},{\"name\":\"Running Time in Seconds\",\"data\":[0,0,0,0,1,0,0,0,0,0,0,0,0,0,0,0,0,0,0,0,0,0,0,0,0,0,0,0,0,0,0,0,0,0,0,6,16,0,0,0,1,0,0,0,0,0,0,0,0,0,0,0,0,0,0,0,0,0,0,0],\"type\":\"column\"}]}],\"options\":{}}}],\"data\":{\"892b3e7c-92da-4831-8ae0-6aa091e0157d\":{\"name\":\"892b3e7c-92da-4831-8ae0-6aa091e0157d\",\"rows\":[{\"data0\":0,\"data1\":{\"name\":\"Running Time in Seconds\",\"data\":[0,0,0,0,1,0,0,0,0,0,0,0,0,0,0,0,0,0,0,0,0,0,0,0,0,0,0,0,0,0,0,0,0,0,0,6,16,0,0,0,1,0,0,0,0,0,0,0,0,0,0,0,0,0,0,0,0,0,0,0],\"type\":\"column\"}}]}},\"extension\":[]}\n",
       "        var id_name = '#vis-ae09b5ee-4ce1-4ee5-9566-7dae08688fd1';\n",
       "        Nyaplot.core.parse(model, id_name);\n",
       "\n",
       "        require(['downloadable'], function(downloadable){\n",
       "          var svg = d3.select(id_name).select(\"svg\");\n",
       "\t  if(!svg.empty())\n",
       "\t    svg.call(downloadable().filename('fig'));\n",
       "\t});\n",
       "    };\n",
       "    if(window['Nyaplot']==undefined){\n",
       "        window.addEventListener('load_nyaplot', render, false);\n",
       "\treturn;\n",
       "    } else {\n",
       "       render();\n",
       "    }\n",
       "})();\n",
       "</script>\n"
      ],
      "text/plain": [
       "#<Nyaplot::Frame:0x000000010c391928 @properties={:panes=>[#<Nyaplot::Plot:0x000000010c394e20 @properties={:diagrams=>[#<Nyaplot::Diagram:0x000000010c393070 @properties={:type=>:scatter, :options=>{:x=>\"data0\", :y=>\"data1\"}, :data=>\"892b3e7c-92da-4831-8ae0-6aa091e0157d\"}, @xrange=[0, 0], @yrange=[{:name=>\"Running Time in Seconds\", :data=>[0, 0, 0, 0, 1, 0, 0, 0, 0, 0, 0, 0, 0, 0, 0, 0, 0, 0, 0, 0, 0, 0, 0, 0, 0, 0, 0, 0, 0, 0, 0, 0, 0, 0, 0, 6, 16, 0, 0, 0, 1, 0, 0, 0, 0, 0, 0, 0, 0, 0, 0, 0, 0, 0, 0, 0, 0, 0, 0, 0], :type=>\"column\"}, {:name=>\"Running Time in Seconds\", :data=>[0, 0, 0, 0, 1, 0, 0, 0, 0, 0, 0, 0, 0, 0, 0, 0, 0, 0, 0, 0, 0, 0, 0, 0, 0, 0, 0, 0, 0, 0, 0, 0, 0, 0, 0, 6, 16, 0, 0, 0, 1, 0, 0, 0, 0, 0, 0, 0, 0, 0, 0, 0, 0, 0, 0, 0, 0, 0, 0, 0], :type=>\"column\"}]>], :options=>{}}>], :data=>{\"892b3e7c-92da-4831-8ae0-6aa091e0157d\"=>#<Nyaplot::DataFrame:0x000000010c393a20 @name=\"892b3e7c-92da-4831-8ae0-6aa091e0157d\", @rows=[{:data0=>0, :data1=>{:name=>\"Running Time in Seconds\", :data=>[0, 0, 0, 0, 1, 0, 0, 0, 0, 0, 0, 0, 0, 0, 0, 0, 0, 0, 0, 0, 0, 0, 0, 0, 0, 0, 0, 0, 0, 0, 0, 0, 0, 0, 0, 6, 16, 0, 0, 0, 1, 0, 0, 0, 0, 0, 0, 0, 0, 0, 0, 0, 0, 0, 0, 0, 0, 0, 0, 0], :type=>\"column\"}}]>}, :extension=>[]}>"
      ]
     },
     "metadata": {},
     "output_type": "display_data"
    }
   ],
   "source": [
    "\n",
    "\n",
    "data = \n",
    "  jobs\n",
    "  .each_with_object(Hash[(0...60).map { |x| [x, 0] }]) { |job,acc| acc[job[:duration].round()] += 1 }\n",
    "  .values\n",
    "\n",
    "histogram = Daru::View::Plot.new(\n",
    "  [{name: \"Running Time in Seconds\", data: data, type: 'column'}], \n",
    "  title: {text: \"Job Runtime Histogram\"}\n",
    ")\n",
    "\n",
    "\n",
    "# to see graph in IRuby notebook\n",
    "histogram.show_in_iruby"
   ]
  }
 ],
 "metadata": {
  "kernelspec": {
   "display_name": "Ruby 3.2.2",
   "language": "ruby",
   "name": "ruby"
  },
  "language_info": {
   "file_extension": ".rb",
   "mimetype": "application/x-ruby",
   "name": "ruby",
   "version": "3.2.2"
  }
 },
 "nbformat": 4,
 "nbformat_minor": 4
}
