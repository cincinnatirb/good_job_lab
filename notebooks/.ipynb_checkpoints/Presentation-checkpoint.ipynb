{
 "cells": [
  {
   "cell_type": "markdown",
   "id": "d4c87a99-8aa1-48f7-9b46-eba1da6cfa45",
   "metadata": {},
   "source": [
    "# Jupyter Notebooks for fun, profit, and sharing Ruby knowledge\n",
    "\n",
    "## Introduction\n",
    "\n",
    "Problem: You have a team (or you're a busy person doing solo work) on a Ruby project. You find yourself doing this stuff a lot:\n"
   ]
  },
  {
   "cell_type": "markdown",
   "id": "d30d244e-5b08-4baf-9c7c-b3c6492567d6",
   "metadata": {},
   "source": [
    "```ruby\n",
    "u = User.find_by(email: \"admin@test.example\")\n",
    "u.roles << Role.find_by(name: :admin)\n",
    "```"
   ]
  },
  {
   "cell_type": "markdown",
   "id": "33497a95-5809-49f6-8adc-124ec4615a18",
   "metadata": {},
   "source": [
    "### Question 1: How do you handle performing and sharing common administrative tasks?\n",
    "\n",
    "* Pray it stays in your rails console history\n",
    "* "
   ]
  },
  {
   "cell_type": "markdown",
   "id": "e8fbfe5a-32d8-4714-86cc-eca05da9d8ab",
   "metadata": {},
   "source": [
    "## Background on Notebooks\n",
    "\n",
    "There are a good number of tools that have emerged from the concept of a second brain https://www.buildingasecondbrain.com. These are center around the concepts of being able to store off information, link it, and retrieve it when needed. Alleviates the need to keep all that context in your brain.\n",
    "\n",
    "### Jupyter Notebooks\n",
    "\n",
    "https://jupyter.org\n",
    "\n",
    "* Hybrid Code and Documentation, allows writing and executing code inline, and documenting it with markdown.\n",
    "* Visualization tools for tables and charts\n",
    "* Outputs can be persisted and stored in a versioned repository along with the code, to allow people to use and see expected outputs\n",
    "* Python-centric, nbut allows for other \"kernels\" incluing Ruby/IRuby to execute other languages\n"
   ]
  }
 ],
 "metadata": {
  "kernelspec": {
   "display_name": "Ruby 3.2.2",
   "language": "ruby",
   "name": "ruby"
  },
  "language_info": {
   "file_extension": ".rb",
   "mimetype": "application/x-ruby",
   "name": "ruby",
   "version": "3.2.2"
  }
 },
 "nbformat": 4,
 "nbformat_minor": 5
}
