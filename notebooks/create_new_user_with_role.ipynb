{
 "cells": [
  {
   "cell_type": "markdown",
   "metadata": {},
   "source": [
    "# Adding a new user to the system\n",
    "\n",
    "## Initialize Rails Environment\n"
   ]
  },
  {
   "cell_type": "code",
   "execution_count": 1,
   "metadata": {},
   "outputs": [
    {
     "data": {
      "text/plain": [
       "true"
      ]
     },
     "execution_count": 1,
     "metadata": {},
     "output_type": "execute_result"
    }
   ],
   "source": [
    "require '../config/boot'\n",
    "require '../config/application'\n",
    "Rails.application.require_environment!"
   ]
  },
  {
   "cell_type": "markdown",
   "metadata": {},
   "source": [
    "## Create new user\n",
    "\n",
    "Run the following to create a new user (tweak the email address as needed)"
   ]
  },
  {
   "cell_type": "code",
   "execution_count": 2,
   "metadata": {},
   "outputs": [
    {
     "data": {
      "text/plain": [
       "#<User id: 1, email: \"test@example\", password: [FILTERED], password_confirmation: [FILTERED], created_at: \"2023-09-21 01:21:27.805533000 +0000\", updated_at: \"2023-09-21 01:21:27.805533000 +0000\">"
      ]
     },
     "execution_count": 2,
     "metadata": {},
     "output_type": "execute_result"
    }
   ],
   "source": [
    "email = \"test@example\"\n",
    "password = \"Strong!\"\n",
    "user = User.find_by(email: email) || User.create(email: email, password: password, password_confirmation: password)"
   ]
  },
  {
   "cell_type": "markdown",
   "metadata": {},
   "source": [
    "## Add new user to admin role"
   ]
  },
  {
   "cell_type": "code",
   "execution_count": 5,
   "metadata": {},
   "outputs": [],
   "source": [
    "role = Role.find_or_create_by(name: \"admin\")\n",
    "user.roles << role unless user.roles.include?(role)"
   ]
  }
 ],
 "metadata": {
  "kernelspec": {
   "display_name": "Ruby 3.2.2",
   "language": "ruby",
   "name": "ruby"
  },
  "language_info": {
   "file_extension": ".rb",
   "mimetype": "application/x-ruby",
   "name": "ruby",
   "version": "3.2.2"
  }
 },
 "nbformat": 4,
 "nbformat_minor": 2
}
